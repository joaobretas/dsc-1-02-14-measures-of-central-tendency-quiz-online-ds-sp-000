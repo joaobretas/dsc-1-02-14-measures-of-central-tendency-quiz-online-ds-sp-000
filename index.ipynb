{
 "cells": [
  {
   "cell_type": "markdown",
   "metadata": {},
   "source": [
    "# Measures of Central Tendency - Quiz\n",
    "\n",
    "## Objectives\n",
    "You will be able to:\n",
    "* Understand and describe the significance of measuring central tendency of continuous data\n",
    "* Understand the formula and intuition behind the mean, median, mode and modal class\n",
    "* Compare mean-median-mode, along with histograms to explain the central tendency of given data"
   ]
  },
  {
   "cell_type": "markdown",
   "metadata": {},
   "source": [
    "**Note, for these exercises, you do not need to write code to answer them - we'll do that later. Just do them by hand or with a calculator to make sure you're comfortable with the process of calculating the answers!**\n",
    "\n",
    "### Exercise 1\n",
    "Calculate the mean, median and mode for this data set: \n",
    "```\n",
    "19, 18, 21, 16, 15, 17, 20, 18\n",
    "```\n",
    "While comparing the results of three measures, comment about this distribution. "
   ]
  },
  {
   "cell_type": "code",
   "execution_count": 13,
   "metadata": {},
   "outputs": [
    {
     "name": "stdout",
     "output_type": "stream",
     "text": [
      "{15: 1, 16: 1, 17: 1, 18: 2, 19: 1, 20: 1, 21: 1}\n",
      "mean: 18.0, median: 18, and mode: 18\n"
     ]
    }
   ],
   "source": [
    "# Your answer here \n",
    "\n",
    "x = [19, 18, 21, 16, 15, 17, 20, 18]\n",
    "\n",
    "#import numpy as np\n",
    "#from scipy import stats\n",
    "#x_mean = np.mean(x)     # arithmetic average\n",
    "#x_median = np.median(x) # splits distribution into halves (after ordering, get the middle value [odd and even different])\n",
    "#x_mode = stats.mode(x)  # most frequent value found in the data set\n",
    "\n",
    "# algorithm to answer\n",
    "sum_points = 0\n",
    "count_points = 0\n",
    "num_points = len(x)\n",
    "x_mode_dict = None\n",
    "if num_points == 0:\n",
    "    x_mean = None\n",
    "    x_median = None\n",
    "    x_mode = None\n",
    "else:\n",
    "    # mean of x\n",
    "    for index in range(num_points):\n",
    "        sum_points += x[index]\n",
    "        x_mean = sum_points/num_points\n",
    "    # median of x:\n",
    "    sorted_x = sorted(x)\n",
    "    if num_points % 2 == 0:\n",
    "        x_median = int((sorted_x[int(num_points/2) - 1] + sorted_x[int(num_points/2)])/2)\n",
    "    else:\n",
    "        x_median = sorted_x[int(num_points/2)]\n",
    "    # mode of x:\n",
    "    x_mode = []\n",
    "    max_count = 0\n",
    "    #x_mode_dict = dict.fromkeys(list(set(x)))\n",
    "    x_mode_dict = {key:0 for key in list(set(x))}\n",
    "    for point in x:\n",
    "        x_mode_dict[point] += 1\n",
    "    for key,value in x_mode_dict.items():\n",
    "        if value < max_count:\n",
    "            continue\n",
    "        elif value > max_count:\n",
    "            x_mode = []\n",
    "            x_mode.append(key)\n",
    "            max_count = value\n",
    "        else:\n",
    "            x_mode.append(key)\n",
    "    if len(x_mode) == 1:\n",
    "        x_mode = x_mode[0]\n",
    "#print(x_mode_dict)        \n",
    "print(f'mean: {x_mean}, median: {x_median}, and mode: {x_mode}')\n",
    "# All three central tendency measures are equal. We have a symmetric data set/distribution."
   ]
  },
  {
   "cell_type": "markdown",
   "metadata": {},
   "source": [
    "### Exercise 2\n",
    "\n",
    "Calculate the mean, median and mode for given distribution and state which of these measures does not describe the \"middle\" of this data set? and why ?\n",
    "```\n",
    "100, 99, 97, 97, 96, 98, 95, 72\n",
    "```"
   ]
  },
  {
   "cell_type": "code",
   "execution_count": 17,
   "metadata": {},
   "outputs": [
    {
     "name": "stdout",
     "output_type": "stream",
     "text": [
      "mean: 94.25, median: 97, and mode: 97\n"
     ]
    },
    {
     "data": {
      "image/png": "[encoded data removed]",
      "text/plain": [
       "<Figure size 432x288 with 1 Axes>"
      ]
     },
     "metadata": {
      "needs_background": "light"
     },
     "output_type": "display_data"
    },
    {
     "name": "stdout",
     "output_type": "stream",
     "text": [
      "The mean is not the best central tendency measure for this data set as it gets reduced due to the low 72 value (outlier).\n",
      "We are dealing with a negatively skewed distribution. Mode and median should provide a better view of data centrality\n"
     ]
    }
   ],
   "source": [
    "# Your answer here \n",
    "\n",
    "x = [100, 99, 97, 97, 96, 98, 95, 72]\n",
    "\n",
    "#import numpy as np\n",
    "#from scipy import stats\n",
    "#x_mean = np.mean(x)     # arithmetic average\n",
    "#x_median = np.median(x) # splits distribution into halves (after ordering, get the middle value [odd and even different])\n",
    "#x_mode = stats.mode(x)  # most frequent value found in the data set\n",
    "\n",
    "# algorithm to answer\n",
    "sum_points = 0\n",
    "count_points = 0\n",
    "num_points = len(x)\n",
    "x_mode_dict = None\n",
    "if num_points == 0:\n",
    "    x_mean = None\n",
    "    x_median = None\n",
    "    x_mode = None\n",
    "else:\n",
    "    # mean of x\n",
    "    for index in range(num_points):\n",
    "        sum_points += x[index]\n",
    "        x_mean = sum_points/num_points\n",
    "    # median of x:\n",
    "    sorted_x = sorted(x)\n",
    "    if num_points % 2 == 0:\n",
    "        x_median = int((sorted_x[int(num_points/2) - 1] + sorted_x[int(num_points/2)])/2)\n",
    "    else:\n",
    "        x_median = sorted_x[int(num_points/2)]\n",
    "    # mode of x:\n",
    "    x_mode = []\n",
    "    max_count = 0\n",
    "    #x_mode_dict = dict.fromkeys(list(set(x)))\n",
    "    x_mode_dict = {key:0 for key in list(set(x))}\n",
    "    for point in x:\n",
    "        x_mode_dict[point] += 1\n",
    "    for key,value in x_mode_dict.items():\n",
    "        if value < max_count:\n",
    "            continue\n",
    "        elif value > max_count:\n",
    "            x_mode = []\n",
    "            x_mode.append(key)\n",
    "            max_count = value\n",
    "        else:\n",
    "            x_mode.append(key)\n",
    "    if len(x_mode) == 1:\n",
    "        x_mode = x_mode[0]\n",
    "#print(x_mode_dict)        \n",
    "print(f'mean: {x_mean}, median: {x_median}, and mode: {x_mode}')\n",
    "\n",
    "import matplotlib.pyplot as plt\n",
    "import numpy as np\n",
    "card = len(set(x))\n",
    "ranged = max(x) - min(x) + 1\n",
    "#plt.hist(x, bins=card)\n",
    "plt.hist(x, bins=ranged)\n",
    "plt.title(\"Data Set\")\n",
    "plt.axvline(x_mean, color='k', linestyle='dashed', linewidth=1)\n",
    "plt.axvline(x_median, color='c', linestyle='dashed', linewidth=2)\n",
    "plt.axvline(x_mode, color='b', linestyle='dashed', linewidth=2)\n",
    "plt.show()\n",
    "\n",
    "print('The mean is not the best central tendency measure for this data set as it gets reduced due to the low 72 value (outlier).')\n",
    "print('We are dealing with a negatively skewed distribution. Mode and median should provide a better view of centrality.')"
   ]
  },
  {
   "cell_type": "markdown",
   "metadata": {},
   "source": [
    "### Exercise 3\n",
    "On the first three days of his bookshop opening, Joe sold 15, 18, and 16 books (He initially hoped that he would sell 17 books every day).  How many books does he need to sell on the next day to have a mean sale of 17?"
   ]
  },
  {
   "cell_type": "code",
   "execution_count": 20,
   "metadata": {},
   "outputs": [
    {
     "name": "stdout",
     "output_type": "stream",
     "text": [
      "Joe needs to sell 19 books on the next day.\n"
     ]
    }
   ],
   "source": [
    "# Your answer here \n",
    "\n",
    "x = [15, 18, 16]\n",
    "target_mean = 17\n",
    "sum_of_x = 0\n",
    "original_size_of_x = len(x)\n",
    "#incremented_size_of_x = len(x) + 1\n",
    "for index in range(original_size_of_x):\n",
    "    sum_of_x += x[index]\n",
    "#new_sale = incremented_size_of_x*target_mean - sum_of_x\n",
    "new_sale = (original_size_of_x + 1)*target_mean - sum_of_x\n",
    "#there's no need to coerce new_sale to int as the set of integers, being a field, is closed under sum and multiplication\n",
    "print(f'Joe needs to sell {new_sale} books on the next day.')"
   ]
  },
  {
   "cell_type": "markdown",
   "metadata": {},
   "source": [
    "### Exercise 4\n",
    "The histograms show the amount of time (hours per day) spent on Facebook by 46 middle school girls and 40 middle school boys from a school in San Francisco. A total of 50 boys and 50 girls took the survey, 4 girls and 10 boys did not use Facebook at all. \n",
    "Each is graphed with a bin width of 0.25 hours.\n",
    "\n",
    "![](boys.png)\n",
    "![](girls.png)\n",
    "\n",
    "Looking at these histograms, answer following questions. \n",
    "\n",
    "*Hint: For most parts, you will have to figure out the location of required bins and count the frequencies. *\n",
    "\n",
    "#### How many boys spend more than 1.5 hours/day on Facebook?\n"
   ]
  },
  {
   "cell_type": "code",
   "execution_count": 9,
   "metadata": {},
   "outputs": [],
   "source": [
    "# Your answer here \n",
    "print('Eight boys spent more than 1.5h/day on Facebook.')"
   ]
  },
  {
   "cell_type": "markdown",
   "metadata": {},
   "source": [
    "#### Compare the percentage of boys and girls that spend more than zero but less than 1 hour/day on Facebook."
   ]
  },
  {
   "cell_type": "code",
   "execution_count": 28,
   "metadata": {},
   "outputs": [
    {
     "name": "stdout",
     "output_type": "stream",
     "text": [
      "From the subpopulations that spent some time in FB, 50% of boys spent less than 1h/day in FB, while 22% of the girls spent under 1h/day.\n"
     ]
    }
   ],
   "source": [
    "# Your answer here \n",
    "perc_boys_less_1 = float(20/40)\n",
    "perc_girls_less_1 = float(10/46)\n",
    "print('From the subpopulations that spent some time in FB,',\"{0:.0%}\".format(perc_boys_less_1),'of boys spent less than 1h/day in FB, while', \"{0:.0%}\".format(perc_girls_less_1), 'of the girls spent under 1h/day.')"
   ]
  },
  {
   "cell_type": "markdown",
   "metadata": {},
   "source": [
    "#### Find the bin where the median of the boys' data set lies."
   ]
  },
  {
   "cell_type": "code",
   "execution_count": 29,
   "metadata": {},
   "outputs": [
    {
     "name": "stdout",
     "output_type": "stream",
     "text": [
      "Out of the boys who had some time on Facebook (40 in total), we should get the bin from the average of the 20th and 21st. That would be bin 1.00-1.25.\n",
      "Out of the whole population of boys (50 in total), we should get the bin from the average of the 25th and 26th. That would be bin 0.75-1.00.\n"
     ]
    }
   ],
   "source": [
    "# Your answer here \n",
    "print('Out of the boys who had some time on Facebook (40 in total), we should get the bin from the average of the 20th and 21st. That would be bin 1.00-1.25.')\n",
    "print('Out of the whole population of boys (50 in total), we should get the bin from the average of the 25th and 26th. That would be bin 0.75-1.00.')"
   ]
  },
  {
   "cell_type": "markdown",
   "metadata": {},
   "source": [
    "#### In terms of Facebook usage times based on given data, what can you conclude about usage habits of boys and girls?"
   ]
  },
  {
   "cell_type": "code",
   "execution_count": 30,
   "metadata": {},
   "outputs": [
    {
     "name": "stdout",
     "output_type": "stream",
     "text": [
      "Girls are heavier Facebook users. Rate of usage is more spread out for girls.\n"
     ]
    }
   ],
   "source": [
    "# Your answer here \n",
    "print('Girls are heavier Facebook users. Rate of usage is more spread out for girls.')"
   ]
  },
  {
   "cell_type": "code",
   "execution_count": null,
   "metadata": {},
   "outputs": [],
   "source": []
  }
 ],
 "metadata": {
  "kernelspec": {
   "display_name": "Python 3",
   "language": "python",
   "name": "python3"
  },
  "language_info": {
   "codemirror_mode": {
    "name": "ipython",
    "version": 3
   },
   "file_extension": ".py",
   "mimetype": "text/x-python",
   "name": "python",
   "nbconvert_exporter": "python",
   "pygments_lexer": "ipython3",
   "version": "3.6.6"
  }
 },
 "nbformat": 4,
 "nbformat_minor": 2
}
